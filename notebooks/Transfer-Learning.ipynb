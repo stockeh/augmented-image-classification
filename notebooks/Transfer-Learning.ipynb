{
 "cells": [
  {
   "cell_type": "markdown",
   "metadata": {},
   "source": [
    "# Transfer Learning\n",
    "\n",
    "This notebook explores different efforts for transfer learning applied to MNIST and CIFAR with augmented images."
   ]
  },
  {
   "cell_type": "code",
   "execution_count": 1,
   "metadata": {},
   "outputs": [],
   "source": [
    "from IPython.display import display\n",
    "from ipywidgets import FloatProgress\n",
    "\n",
    "import sys\n",
    "sys.path.append('../src')\n",
    "\n",
    "import torch\n",
    "import neuralnetworkclassifier as nnc\n",
    "import dataset_manipulations as dm\n",
    "import perturb as per\n",
    "import numpy as np\n",
    "import mlutils as ml\n",
    "import pickle\n",
    "import os\n",
    "\n",
    "import matplotlib.pyplot as plt"
   ]
  },
  {
   "cell_type": "code",
   "execution_count": 2,
   "metadata": {},
   "outputs": [],
   "source": [
    "Xtrain, Ttrain = dm.load_cifar_10('./cifar-10-batches-py/data_batch_*')\n",
    "Xtest, Ttest = dm.load_cifar_10('./cifar-10-batches-py/test_batch')"
   ]
  },
  {
   "cell_type": "code",
   "execution_count": 3,
   "metadata": {},
   "outputs": [],
   "source": [
    "noise_Xtrain = dm.apply_manipulations(Xtrain, per_func=lambda x: per.add_image_noise(x, variance=0.05))\n",
    "noise_Xtest = dm.apply_manipulations(Xtest, per_func=lambda x: per.add_image_noise(x, variance=0.05))"
   ]
  },
  {
   "cell_type": "code",
   "execution_count": 4,
   "metadata": {},
   "outputs": [],
   "source": [
    "morenoise_Xtrain = dm.apply_manipulations(Xtrain, per_func=lambda x: per.add_image_noise(x, variance=0.1))\n",
    "morenoise_Xtest = dm.apply_manipulations(Xtest, per_func=lambda x: per.add_image_noise(x, variance=0.1)) "
   ]
  },
  {
   "cell_type": "code",
   "execution_count": 5,
   "metadata": {},
   "outputs": [],
   "source": [
    "lessnoise_Xtrain = dm.apply_manipulations(Xtrain, per_func=lambda x: per.add_image_noise(x, variance=0.025))\n",
    "lessnoise_Xtest = dm.apply_manipulations(Xtest, per_func=lambda x: per.add_image_noise(x, variance=0.025)) "
   ]
  },
  {
   "cell_type": "code",
   "execution_count": 6,
   "metadata": {},
   "outputs": [
    {
     "data": {
      "text/plain": [
       "<module 'perturb' from '../src/perturb.py'>"
      ]
     },
     "execution_count": 6,
     "metadata": {},
     "output_type": "execute_result"
    }
   ],
   "source": [
    "import imp\n",
    "imp.reload(nnc)\n",
    "imp.reload(per)"
   ]
  },
  {
   "cell_type": "markdown",
   "metadata": {},
   "source": [
    "## Load before you Train\n",
    "\n",
    "FYI, if this clean model has already been trained, you should just load it instead of training again!"
   ]
  },
  {
   "cell_type": "code",
   "execution_count": 15,
   "metadata": {},
   "outputs": [],
   "source": [
    "if os.path.exists('./pretrained_cifar_clean.pkl'):\n",
    "    nnet = nnc.NeuralNetwork_Convolutional.load_network('./pretrained_cifar_clean.pkl')\n",
    "else:\n",
    "    nnet = per.train_cifar(Xtrain, Ttrain, verbose=True, random_seed=12)"
   ]
  },
  {
   "cell_type": "code",
   "execution_count": 16,
   "metadata": {},
   "outputs": [
    {
     "data": {
      "text/plain": [
       "NeuralNetwork_Convolutional(\n",
       "                            n_channels_in_image=3,\n",
       "                            image_size=32,\n",
       "                            n_units_in_conv_layers=[64, 64, 128, 128, 256, 256, 512, 512],\n",
       "                            kernels_size_and_stride=[(3, 1, 1), (3, 1, 1), (3, 1, 1), (3, 1, 1), (3, 1, 1), (3, 1, 1), (3, 1, 1), (3, 1, 1)],\n",
       "                            max_pooling_kernels_and_stride=[(), (2, 2), (), (2, 2), (), (2, 2), (), (2, 2)],\n",
       "                            n_units_in_fc_hidden_layers=[],\n",
       "                            classes=[0 1 2 3 4 5 6 7 8 9],\n",
       "                            use_gpu=True)\n",
       "Sequential(\n",
       "  (conv_0): Conv2d(3, 64, kernel_size=(3, 3), stride=(1, 1), padding=(1, 1))\n",
       "  (norm_0): BatchNorm2d(64, eps=1e-05, momentum=0.1, affine=True, track_running_stats=True)\n",
       "  (output_0): ReLU()\n",
       "  (conv_1): Conv2d(64, 64, kernel_size=(3, 3), stride=(1, 1), padding=(1, 1))\n",
       "  (norm_1): BatchNorm2d(64, eps=1e-05, momentum=0.1, affine=True, track_running_stats=True)\n",
       "  (output_1): ReLU()\n",
       "  (pool_1): MaxPool2d(kernel_size=2, stride=2, padding=0, dilation=1, ceil_mode=False)\n",
       "  (drop_1): Dropout(p=0.2, inplace=False)\n",
       "  (conv_2): Conv2d(64, 128, kernel_size=(3, 3), stride=(1, 1), padding=(1, 1))\n",
       "  (norm_2): BatchNorm2d(128, eps=1e-05, momentum=0.1, affine=True, track_running_stats=True)\n",
       "  (output_2): ReLU()\n",
       "  (conv_3): Conv2d(128, 128, kernel_size=(3, 3), stride=(1, 1), padding=(1, 1))\n",
       "  (norm_3): BatchNorm2d(128, eps=1e-05, momentum=0.1, affine=True, track_running_stats=True)\n",
       "  (output_3): ReLU()\n",
       "  (pool_3): MaxPool2d(kernel_size=2, stride=2, padding=0, dilation=1, ceil_mode=False)\n",
       "  (drop_3): Dropout(p=0.2, inplace=False)\n",
       "  (conv_4): Conv2d(128, 256, kernel_size=(3, 3), stride=(1, 1), padding=(1, 1))\n",
       "  (norm_4): BatchNorm2d(256, eps=1e-05, momentum=0.1, affine=True, track_running_stats=True)\n",
       "  (output_4): ReLU()\n",
       "  (conv_5): Conv2d(256, 256, kernel_size=(3, 3), stride=(1, 1), padding=(1, 1))\n",
       "  (norm_5): BatchNorm2d(256, eps=1e-05, momentum=0.1, affine=True, track_running_stats=True)\n",
       "  (output_5): ReLU()\n",
       "  (pool_5): MaxPool2d(kernel_size=2, stride=2, padding=0, dilation=1, ceil_mode=False)\n",
       "  (drop_5): Dropout(p=0.2, inplace=False)\n",
       "  (conv_6): Conv2d(256, 512, kernel_size=(3, 3), stride=(1, 1), padding=(1, 1))\n",
       "  (norm_6): BatchNorm2d(512, eps=1e-05, momentum=0.1, affine=True, track_running_stats=True)\n",
       "  (output_6): ReLU()\n",
       "  (conv_7): Conv2d(512, 512, kernel_size=(3, 3), stride=(1, 1), padding=(1, 1))\n",
       "  (norm_7): BatchNorm2d(512, eps=1e-05, momentum=0.1, affine=True, track_running_stats=True)\n",
       "  (output_7): ReLU()\n",
       "  (pool_7): MaxPool2d(kernel_size=2, stride=2, padding=0, dilation=1, ceil_mode=False)\n",
       "  (drop_7): Dropout(p=0.2, inplace=False)\n",
       "  (flatten): Flatten()\n",
       "  (output_8): Linear(in_features=2048, out_features=10, bias=True)\n",
       ")  Network is not trained."
      ]
     },
     "execution_count": 16,
     "metadata": {},
     "output_type": "execute_result"
    }
   ],
   "source": [
    "nnet"
   ]
  },
  {
   "cell_type": "code",
   "execution_count": 17,
   "metadata": {},
   "outputs": [],
   "source": [
    "if not os.path.exists('./pretrained_cifar_clean.pkl'):\n",
    "    print('Saving network')\n",
    "    nnet.save_network('./pretrained_cifar_clean.pkl')"
   ]
  },
  {
   "cell_type": "code",
   "execution_count": 18,
   "metadata": {},
   "outputs": [
    {
     "data": {
      "text/plain": [
       "(86.15, 84.11999999999999, 70.26, 31.419999999999998)"
      ]
     },
     "execution_count": 18,
     "metadata": {},
     "output_type": "execute_result"
    }
   ],
   "source": [
    "clean_pct = ml.percent_correct(Ttest, ml.batched_use(nnet, Xtest, 100))\n",
    "noise_pct = ml.percent_correct(Ttest, ml.batched_use(nnet, noise_Xtest, 100))\n",
    "lessnoise_pct = ml.percent_correct(Ttest, ml.batched_use(nnet, lessnoise_Xtest, 100))\n",
    "morenoise_pct = ml.percent_correct(Ttest, ml.batched_use(nnet, morenoise_Xtest, 100))\n",
    "(clean_pct, lessnoise_pct, noise_pct, morenoise_pct)"
   ]
  },
  {
   "cell_type": "code",
   "execution_count": 19,
   "metadata": {},
   "outputs": [
    {
     "data": {
      "text/plain": [
       "Sequential(\n",
       "  (0): Conv2d(3, 64, kernel_size=(3, 3), stride=(1, 1), padding=(1, 1))\n",
       "  (1): BatchNorm2d(64, eps=1e-05, momentum=0.1, affine=True, track_running_stats=True)\n",
       "  (2): ReLU()\n",
       "  (3): Conv2d(64, 64, kernel_size=(3, 3), stride=(1, 1), padding=(1, 1))\n",
       "  (4): BatchNorm2d(64, eps=1e-05, momentum=0.1, affine=True, track_running_stats=True)\n",
       "  (5): ReLU()\n",
       "  (6): MaxPool2d(kernel_size=2, stride=2, padding=0, dilation=1, ceil_mode=False)\n",
       "  (7): Dropout(p=0.2, inplace=False)\n",
       "  (8): Conv2d(64, 128, kernel_size=(3, 3), stride=(1, 1), padding=(1, 1))\n",
       "  (9): BatchNorm2d(128, eps=1e-05, momentum=0.1, affine=True, track_running_stats=True)\n",
       "  (10): ReLU()\n",
       "  (11): Conv2d(128, 128, kernel_size=(3, 3), stride=(1, 1), padding=(1, 1))\n",
       "  (12): BatchNorm2d(128, eps=1e-05, momentum=0.1, affine=True, track_running_stats=True)\n",
       "  (13): ReLU()\n",
       "  (14): MaxPool2d(kernel_size=2, stride=2, padding=0, dilation=1, ceil_mode=False)\n",
       "  (15): Dropout(p=0.2, inplace=False)\n",
       "  (16): Conv2d(128, 256, kernel_size=(3, 3), stride=(1, 1), padding=(1, 1))\n",
       "  (17): BatchNorm2d(256, eps=1e-05, momentum=0.1, affine=True, track_running_stats=True)\n",
       "  (18): ReLU()\n",
       "  (19): Conv2d(256, 256, kernel_size=(3, 3), stride=(1, 1), padding=(1, 1))\n",
       "  (20): BatchNorm2d(256, eps=1e-05, momentum=0.1, affine=True, track_running_stats=True)\n",
       "  (21): ReLU()\n",
       "  (22): MaxPool2d(kernel_size=2, stride=2, padding=0, dilation=1, ceil_mode=False)\n",
       "  (23): Dropout(p=0.2, inplace=False)\n",
       "  (24): Conv2d(256, 512, kernel_size=(3, 3), stride=(1, 1), padding=(1, 1))\n",
       "  (25): BatchNorm2d(512, eps=1e-05, momentum=0.1, affine=True, track_running_stats=True)\n",
       "  (26): ReLU()\n",
       "  (27): Conv2d(512, 512, kernel_size=(3, 3), stride=(1, 1), padding=(1, 1))\n",
       "  (28): BatchNorm2d(512, eps=1e-05, momentum=0.1, affine=True, track_running_stats=True)\n",
       "  (29): ReLU()\n",
       "  (30): MaxPool2d(kernel_size=2, stride=2, padding=0, dilation=1, ceil_mode=False)\n",
       "  (31): Dropout(p=0.2, inplace=False)\n",
       "  (32): Flatten()\n",
       "  (33): Linear(in_features=2048, out_features=256, bias=True)\n",
       "  (34): ReLU()\n",
       "  (35): Linear(in_features=256, out_features=512, bias=True)\n",
       "  (36): ReLU()\n",
       "  (37): Linear(in_features=512, out_features=10, bias=True)\n",
       ")"
      ]
     },
     "execution_count": 19,
     "metadata": {},
     "output_type": "execute_result"
    }
   ],
   "source": [
    "transfer_network = nnet.transfer_learn_setup([256, 512], overwrite_network=True, freeze=True)\n",
    "transfer_network"
   ]
  },
  {
   "cell_type": "code",
   "execution_count": 20,
   "metadata": {},
   "outputs": [
    {
     "name": "stdout",
     "output_type": "stream",
     "text": [
      "Epoch 1 error 0.22122\n",
      "Epoch 2 error 0.16778\n",
      "Epoch 3 error 0.15169\n",
      "Epoch 4 error 0.13696\n",
      "Epoch 5 error 0.14111\n"
     ]
    }
   ],
   "source": [
    "nnet.train(noise_Xtrain, Ttrain, n_epochs=5, batch_size=200,\n",
    "           optim='Adam', learning_rate=0.0005, verbose=True)"
   ]
  },
  {
   "cell_type": "code",
   "execution_count": 21,
   "metadata": {},
   "outputs": [
    {
     "data": {
      "text/plain": [
       "(82.36, 83.35000000000001, 81.58, 59.0)"
      ]
     },
     "execution_count": 21,
     "metadata": {},
     "output_type": "execute_result"
    }
   ],
   "source": [
    "clean_pct = ml.percent_correct(Ttest, ml.batched_use(nnet, Xtest, 100))\n",
    "noise_pct = ml.percent_correct(Ttest, ml.batched_use(nnet, noise_Xtest, 100))\n",
    "lessnoise_pct = ml.percent_correct(Ttest, ml.batched_use(nnet, lessnoise_Xtest, 100))\n",
    "morenoise_pct = ml.percent_correct(Ttest, ml.batched_use(nnet, morenoise_Xtest, 100))\n",
    "(clean_pct, lessnoise_pct, noise_pct, morenoise_pct)"
   ]
  },
  {
   "cell_type": "code",
   "execution_count": 32,
   "metadata": {},
   "outputs": [
    {
     "data": {
      "text/plain": [
       "(96.76, 96.89999999999999, 97.11, 96.96000000000001)"
      ]
     },
     "execution_count": 32,
     "metadata": {},
     "output_type": "execute_result"
    }
   ],
   "source": [
    "clean_pct = ml.percent_correct(Ttest, ml.batched_use(nnet, Xtest, 100))\n",
    "noise_pct = ml.percent_correct(Ttest, ml.batched_use(nnet, noise_Xtest, 100))\n",
    "lessnoise_pct = ml.percent_correct(Ttest, ml.batched_use(nnet, lessnoise_Xtest, 100))\n",
    "morenoise_pct = ml.percent_correct(Ttest, ml.batched_use(nnet, morenoise_Xtest, 100))\n",
    "(clean_pct, lessnoise_pct, noise_pct, morenoise_pct)"
   ]
  },
  {
   "cell_type": "markdown",
   "metadata": {},
   "source": [
    "## Plotting Transfer Learning Results"
   ]
  },
  {
   "cell_type": "code",
   "execution_count": 34,
   "metadata": {},
   "outputs": [
    {
     "name": "stdout",
     "output_type": "stream",
     "text": [
      "Epoch 1 error 0.28583\n",
      "Epoch 2 error 0.19008\n",
      "Epoch 3 error 0.19235\n",
      "Epoch 4 error 0.20943\n",
      "Epoch 5 error 0.16437\n",
      "Epoch 6 error 0.12645\n",
      "Epoch 7 error 0.17384\n",
      "Epoch 8 error 0.15913\n",
      "Epoch 9 error 0.15459\n",
      "Epoch 10 error 0.20478\n"
     ]
    },
    {
     "data": {
      "application/vnd.jupyter.widget-view+json": {
       "model_id": "cf85be3aefca468ab43e9577ba9d78c3",
       "version_major": 2,
       "version_minor": 0
      },
      "text/plain": [
       "FloatProgress(value=0.0, max=5.0)"
      ]
     },
     "metadata": {},
     "output_type": "display_data"
    },
    {
     "name": "stdout",
     "output_type": "stream",
     "text": [
      "Epoch 1 error 0.29780\n",
      "Epoch 2 error 0.21537\n",
      "Epoch 3 error 0.21005\n",
      "Epoch 4 error 0.22976\n",
      "Epoch 5 error 0.17765\n",
      "Epoch 6 error 0.13739\n",
      "Epoch 7 error 0.19422\n",
      "Epoch 8 error 0.17500\n",
      "Epoch 9 error 0.16526\n",
      "Epoch 10 error 0.20479\n"
     ]
    },
    {
     "data": {
      "application/vnd.jupyter.widget-view+json": {
       "model_id": "7db584f8504147d987e8d29839e27758",
       "version_major": 2,
       "version_minor": 0
      },
      "text/plain": [
       "FloatProgress(value=0.0, max=5.0)"
      ]
     },
     "metadata": {},
     "output_type": "display_data"
    },
    {
     "name": "stdout",
     "output_type": "stream",
     "text": [
      "Epoch 1 error 0.33810\n",
      "Epoch 2 error 0.22316\n",
      "Epoch 3 error 0.21486\n",
      "Epoch 4 error 0.24711\n",
      "Epoch 5 error 0.20665\n",
      "Epoch 6 error 0.16554\n",
      "Epoch 7 error 0.21958\n",
      "Epoch 8 error 0.17969\n",
      "Epoch 9 error 0.14288\n",
      "Epoch 10 error 0.19367\n"
     ]
    },
    {
     "data": {
      "application/vnd.jupyter.widget-view+json": {
       "model_id": "8ba1f4d7747a4fa989e2a4981a26324a",
       "version_major": 2,
       "version_minor": 0
      },
      "text/plain": [
       "FloatProgress(value=0.0, max=5.0)"
      ]
     },
     "metadata": {},
     "output_type": "display_data"
    }
   ],
   "source": [
    "res_list = []\n",
    "for ds, name in zip([lessnoise_Xtrain, noise_Xtrain, morenoise_Xtrain], ['0.025v', '0.05v', '0.1v']):\n",
    "    nnet = nnc.NeuralNetwork_Convolutional.load_network('./pretrained_mnist_clean.pkl')\n",
    "    nnet.transfer_learn_setup([256], freeze=False)\n",
    "    nnet.train(ds, Ttrain, n_epochs=10, batch_size=200, optim='Adam', learning_rate=0.0005, verbose=True)\n",
    "    \n",
    "    res_list.append((name, per.run_increasing_noise(nnet, Xtest, Ttest, trials_per_step=1)))"
   ]
  },
  {
   "cell_type": "code",
   "execution_count": 35,
   "metadata": {
    "scrolled": false
   },
   "outputs": [
    {
     "data": {
      "text/plain": [
       "[('0.025v',\n",
       "  (array([0.001  , 0.01325, 0.0255 , 0.03775, 0.05   ]),\n",
       "   array([97.45, 97.4 , 97.31, 97.13, 96.71]),\n",
       "   array([0., 0., 0., 0., 0.]))),\n",
       " ('0.05v',\n",
       "  (array([0.001  , 0.01325, 0.0255 , 0.03775, 0.05   ]),\n",
       "   array([97.42, 97.4 , 97.44, 97.34, 97.31]),\n",
       "   array([0., 0., 0., 0., 0.]))),\n",
       " ('0.1v',\n",
       "  (array([0.001  , 0.01325, 0.0255 , 0.03775, 0.05   ]),\n",
       "   array([97.07, 97.06, 97.1 , 97.07, 97.14]),\n",
       "   array([0., 0., 0., 0., 0.])))]"
      ]
     },
     "execution_count": 35,
     "metadata": {},
     "output_type": "execute_result"
    }
   ],
   "source": [
    "res_list"
   ]
  },
  {
   "cell_type": "code",
   "execution_count": 36,
   "metadata": {},
   "outputs": [
    {
     "data": {
      "image/png": "[encoded data removed]",
      "text/plain": [
       "<Figure size 432x288 with 1 Axes>"
      ]
     },
     "metadata": {
      "needs_background": "light"
     },
     "output_type": "display_data"
    }
   ],
   "source": [
    "per.plot_increasing_noise(clean_pct, res_list, (0.001, 0.05), 5, 'delme.pdf')"
   ]
  },
  {
   "cell_type": "code",
   "execution_count": 33,
   "metadata": {},
   "outputs": [
    {
     "data": {
      "image/png": "[encoded data removed]",
      "text/plain": [
       "<Figure size 432x288 with 1 Axes>"
      ]
     },
     "metadata": {
      "needs_background": "light"
     },
     "output_type": "display_data"
    }
   ],
   "source": [
    "per.plot_increasing_noise(clean_pct, res_list, (0.001, 0.05), 5, 'delme.pdf')"
   ]
  },
  {
   "cell_type": "code",
   "execution_count": null,
   "metadata": {},
   "outputs": [],
   "source": [
    "per.test_increasing_noise(nnet, Xtest, Ttest, var_range=(0.001, 0.1), trials_per_step=1)"
   ]
  },
  {
   "cell_type": "markdown",
   "metadata": {},
   "source": [
    "## Transfer Learning on MNIST"
   ]
  },
  {
   "cell_type": "code",
   "execution_count": 25,
   "metadata": {},
   "outputs": [],
   "source": [
    "Xtrain, Ttrain, Xtest, Ttest, _, _ = dm.load_mnist('./mnist.pkl.gz')"
   ]
  },
  {
   "cell_type": "code",
   "execution_count": 26,
   "metadata": {},
   "outputs": [],
   "source": [
    "noise_Xtrain = dm.apply_manipulations(Xtrain, per_func=lambda x: per.add_image_noise(x, variance=0.05))\n",
    "noise_Xtest = dm.apply_manipulations(Xtest, per_func=lambda x: per.add_image_noise(x, variance=0.05))"
   ]
  },
  {
   "cell_type": "code",
   "execution_count": 27,
   "metadata": {},
   "outputs": [],
   "source": [
    "morenoise_Xtrain = dm.apply_manipulations(Xtrain, per_func=lambda x: per.add_image_noise(x, variance=0.1))\n",
    "morenoise_Xtest = dm.apply_manipulations(Xtest, per_func=lambda x: per.add_image_noise(x, variance=0.1)) "
   ]
  },
  {
   "cell_type": "code",
   "execution_count": 28,
   "metadata": {},
   "outputs": [],
   "source": [
    "lessnoise_Xtrain = dm.apply_manipulations(Xtrain, per_func=lambda x: per.add_image_noise(x, variance=0.025))\n",
    "lessnoise_Xtest = dm.apply_manipulations(Xtest, per_func=lambda x: per.add_image_noise(x, variance=0.025)) "
   ]
  },
  {
   "cell_type": "code",
   "execution_count": null,
   "metadata": {},
   "outputs": [],
   "source": [
    "if os.path.exists('./pretrained_mnist_clean.pkl'):\n",
    "    nnet = nnc.NeuralNetwork_Convolutional.load_network('./pretrained_mnist_clean.pkl')\n",
    "else:\n",
    "    nnet = per.train_mnist(Xtrain, Ttrain, verbose=True)"
   ]
  },
  {
   "cell_type": "code",
   "execution_count": null,
   "metadata": {},
   "outputs": [],
   "source": [
    "nnet"
   ]
  },
  {
   "cell_type": "code",
   "execution_count": null,
   "metadata": {},
   "outputs": [],
   "source": [
    "if not os.path.exists('./pretrained_mnist_clean.pkl'):\n",
    "    print('Saving network')\n",
    "    nnet.save_network('./pretrained_mnist_clean.pkl')"
   ]
  },
  {
   "cell_type": "code",
   "execution_count": null,
   "metadata": {},
   "outputs": [],
   "source": [
    "clean_pct = ml.percent_correct(Ttest, ml.batched_use(nnet, Xtest, 100))\n",
    "noise_pct = ml.percent_correct(Ttest, ml.batched_use(nnet, noise_Xtest, 100))\n",
    "lessnoise_pct = ml.percent_correct(Ttest, ml.batched_use(nnet, lessnoise_Xtest, 100))\n",
    "morenoise_pct = ml.percent_correct(Ttest, ml.batched_use(nnet, morenoise_Xtest, 100))\n",
    "(clean_pct, lessnoise_pct, noise_pct, morenoise_pct)"
   ]
  },
  {
   "cell_type": "code",
   "execution_count": null,
   "metadata": {},
   "outputs": [],
   "source": [
    "nnet.transfer_learn_setup([256], freeze=True)"
   ]
  },
  {
   "cell_type": "code",
   "execution_count": null,
   "metadata": {},
   "outputs": [],
   "source": [
    "nnet.train(noise_Xtrain, Ttrain, n_epochs=20, batch_size=200,\n",
    "           optim='Adam', learning_rate=0.0005, verbose=True)"
   ]
  },
  {
   "cell_type": "code",
   "execution_count": null,
   "metadata": {},
   "outputs": [],
   "source": [
    "clean_pct = ml.percent_correct(Ttest, ml.batched_use(nnet, Xtest, 100))\n",
    "noise_pct = ml.percent_correct(Ttest, ml.batched_use(nnet, noise_Xtest, 100))\n",
    "lessnoise_pct = ml.percent_correct(Ttest, ml.batched_use(nnet, lessnoise_Xtest, 100))\n",
    "morenoise_pct = ml.percent_correct(Ttest, ml.batched_use(nnet, morenoise_Xtest, 100))\n",
    "(clean_pct, lessnoise_pct, noise_pct, morenoise_pct)"
   ]
  },
  {
   "cell_type": "code",
   "execution_count": null,
   "metadata": {},
   "outputs": [],
   "source": [
    "res_list = []\n",
    "res_list.append()"
   ]
  },
  {
   "cell_type": "code",
   "execution_count": null,
   "metadata": {},
   "outputs": [],
   "source": [
    "per.run_increasing_noise(nnet, Xtest, Ttest, var_range=(0.001, 0.1))"
   ]
  }
 ],
 "metadata": {
  "kernelspec": {
   "display_name": "Python 3",
   "language": "python",
   "name": "python3"
  },
  "language_info": {
   "codemirror_mode": {
    "name": "ipython",
    "version": 3
   },
   "file_extension": ".py",
   "mimetype": "text/x-python",
   "name": "python",
   "nbconvert_exporter": "python",
   "pygments_lexer": "ipython3",
   "version": "3.7.3"
  }
 },
 "nbformat": 4,
 "nbformat_minor": 2
}
