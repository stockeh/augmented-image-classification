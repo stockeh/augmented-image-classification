{
 "cells": [
  {
   "cell_type": "markdown",
   "metadata": {},
   "source": [
    "# Transfer Learning\n",
    "\n",
    "This notebook explores different efforts for transfer learning applied to MNIST and CIFAR with augmented images."
   ]
  },
  {
   "cell_type": "code",
   "execution_count": 1,
   "metadata": {},
   "outputs": [],
   "source": [
    "from IPython.display import display\n",
    "from ipywidgets import FloatProgress\n",
    "\n",
    "import sys\n",
    "sys.path.append('../src')\n",
    "\n",
    "import torch\n",
    "import neuralnetworkclassifier as nnc\n",
    "import dataset_manipulations as dm\n",
    "import perturb as per\n",
    "import numpy as np\n",
    "import mlutils as ml\n",
    "import pickle\n",
    "import os\n",
    "\n",
    "import matplotlib.pyplot as plt"
   ]
  },
  {
   "cell_type": "code",
   "execution_count": 168,
   "metadata": {},
   "outputs": [],
   "source": [
    "Xtrain, Ttrain = dm.load_cifar_10('./cifar-10-batches-py/data_batch_*')\n",
    "Xtest, Ttest = dm.load_cifar_10('./cifar-10-batches-py/test_batch')"
   ]
  },
  {
   "cell_type": "code",
   "execution_count": 169,
   "metadata": {},
   "outputs": [],
   "source": [
    "noise_Xtrain = dm.apply_manipulations(Xtrain, per_func=lambda x: per.add_image_noise(x, variance=0.05))\n",
    "noise_Xtest = dm.apply_manipulations(Xtest, per_func=lambda x: per.add_image_noise(x, variance=0.05))"
   ]
  },
  {
   "cell_type": "code",
   "execution_count": 170,
   "metadata": {},
   "outputs": [],
   "source": [
    "morenoise_Xtrain = dm.apply_manipulations(Xtrain, per_func=lambda x: per.add_image_noise(x, variance=0.1))\n",
    "morenoise_Xtest = dm.apply_manipulations(Xtest, per_func=lambda x: per.add_image_noise(x, variance=0.1)) "
   ]
  },
  {
   "cell_type": "code",
   "execution_count": 171,
   "metadata": {},
   "outputs": [],
   "source": [
    "lessnoise_Xtrain = dm.apply_manipulations(Xtrain, per_func=lambda x: per.add_image_noise(x, variance=0.025))\n",
    "lessnoise_Xtest = dm.apply_manipulations(Xtest, per_func=lambda x: per.add_image_noise(x, variance=0.025)) "
   ]
  },
  {
   "cell_type": "code",
   "execution_count": 172,
   "metadata": {},
   "outputs": [
    {
     "data": {
      "text/plain": [
       "<module 'perturb' from '../src/perturb.py'>"
      ]
     },
     "execution_count": 172,
     "metadata": {},
     "output_type": "execute_result"
    }
   ],
   "source": [
    "import imp\n",
    "imp.reload(nnc)\n",
    "imp.reload(per)"
   ]
  },
  {
   "cell_type": "markdown",
   "metadata": {},
   "source": [
    "## Load before you Train\n",
    "\n",
    "FYI, if this clean model has already been trained, you should just load it instead of training again!"
   ]
  },
  {
   "cell_type": "code",
   "execution_count": 201,
   "metadata": {},
   "outputs": [],
   "source": [
    "if os.path.exists('./pretrained_cifar_clean.pkl'):\n",
    "    with open('./pretrained_cifar_clean.pkl', 'rb') as f:\n",
    "        nnet = torch.load(f)\n",
    "        nnet.cuda()\n",
    "else:\n",
    "    nnet = per.train_cifar(Xtrain, Ttrain, verbose=True, random_seed=12)"
   ]
  },
  {
   "cell_type": "code",
   "execution_count": 202,
   "metadata": {},
   "outputs": [
    {
     "data": {
      "text/plain": [
       "NeuralNetwork_Convolutional(\n",
       "                            n_channels_in_image=3,\n",
       "                            image_size=32,\n",
       "                            n_units_in_conv_layers=[64, 64, 128, 128, 256, 256, 512, 512],\n",
       "                            kernels_size_and_stride=[(3, 1, 1), (3, 1, 1), (3, 1, 1), (3, 1, 1), (3, 1, 1), (3, 1, 1), (3, 1, 1), (3, 1, 1)],\n",
       "                            max_pooling_kernels_and_stride=[(), (2, 2), (), (2, 2), (), (2, 2), (), (2, 2)],\n",
       "                            n_units_in_fc_hidden_layers=[],\n",
       "                            classes=[0 1 2 3 4 5 6 7 8 9],\n",
       "                            use_gpu=True)\n",
       "Sequential(\n",
       "  (conv_0): Conv2d(3, 64, kernel_size=(3, 3), stride=(1, 1), padding=(1, 1))\n",
       "  (norm_0): BatchNorm2d(64, eps=1e-05, momentum=0.1, affine=True, track_running_stats=True)\n",
       "  (output_0): ReLU()\n",
       "  (conv_1): Conv2d(64, 64, kernel_size=(3, 3), stride=(1, 1), padding=(1, 1))\n",
       "  (norm_1): BatchNorm2d(64, eps=1e-05, momentum=0.1, affine=True, track_running_stats=True)\n",
       "  (output_1): ReLU()\n",
       "  (pool_1): MaxPool2d(kernel_size=2, stride=2, padding=0, dilation=1, ceil_mode=False)\n",
       "  (drop_1): Dropout(p=0.2, inplace=False)\n",
       "  (conv_2): Conv2d(64, 128, kernel_size=(3, 3), stride=(1, 1), padding=(1, 1))\n",
       "  (norm_2): BatchNorm2d(128, eps=1e-05, momentum=0.1, affine=True, track_running_stats=True)\n",
       "  (output_2): ReLU()\n",
       "  (conv_3): Conv2d(128, 128, kernel_size=(3, 3), stride=(1, 1), padding=(1, 1))\n",
       "  (norm_3): BatchNorm2d(128, eps=1e-05, momentum=0.1, affine=True, track_running_stats=True)\n",
       "  (output_3): ReLU()\n",
       "  (pool_3): MaxPool2d(kernel_size=2, stride=2, padding=0, dilation=1, ceil_mode=False)\n",
       "  (drop_3): Dropout(p=0.2, inplace=False)\n",
       "  (conv_4): Conv2d(128, 256, kernel_size=(3, 3), stride=(1, 1), padding=(1, 1))\n",
       "  (norm_4): BatchNorm2d(256, eps=1e-05, momentum=0.1, affine=True, track_running_stats=True)\n",
       "  (output_4): ReLU()\n",
       "  (conv_5): Conv2d(256, 256, kernel_size=(3, 3), stride=(1, 1), padding=(1, 1))\n",
       "  (norm_5): BatchNorm2d(256, eps=1e-05, momentum=0.1, affine=True, track_running_stats=True)\n",
       "  (output_5): ReLU()\n",
       "  (pool_5): MaxPool2d(kernel_size=2, stride=2, padding=0, dilation=1, ceil_mode=False)\n",
       "  (drop_5): Dropout(p=0.2, inplace=False)\n",
       "  (conv_6): Conv2d(256, 512, kernel_size=(3, 3), stride=(1, 1), padding=(1, 1))\n",
       "  (norm_6): BatchNorm2d(512, eps=1e-05, momentum=0.1, affine=True, track_running_stats=True)\n",
       "  (output_6): ReLU()\n",
       "  (conv_7): Conv2d(512, 512, kernel_size=(3, 3), stride=(1, 1), padding=(1, 1))\n",
       "  (norm_7): BatchNorm2d(512, eps=1e-05, momentum=0.1, affine=True, track_running_stats=True)\n",
       "  (output_7): ReLU()\n",
       "  (pool_7): MaxPool2d(kernel_size=2, stride=2, padding=0, dilation=1, ceil_mode=False)\n",
       "  (drop_7): Dropout(p=0.2, inplace=False)\n",
       "  (flatten): Flatten()\n",
       "  (output_8): Linear(in_features=2048, out_features=10, bias=True)\n",
       ")\n",
       "   Network was trained for 20 epochs with a batch size of 100 and took 449.5134 seconds.\n",
       "   Final objective value is 0.155"
      ]
     },
     "execution_count": 202,
     "metadata": {},
     "output_type": "execute_result"
    }
   ],
   "source": [
    "nnet"
   ]
  },
  {
   "cell_type": "code",
   "execution_count": 203,
   "metadata": {},
   "outputs": [],
   "source": [
    "if not os.path.exists('./pretrained_cifar_clean.pkl'):\n",
    "    with open('./pretrained_cifar_clean.pkl', 'wb') as f:\n",
    "        torch.save(nnet, f)"
   ]
  },
  {
   "cell_type": "code",
   "execution_count": 204,
   "metadata": {},
   "outputs": [
    {
     "data": {
      "text/plain": [
       "(86.92, 83.65, 66.57, 28.79)"
      ]
     },
     "execution_count": 204,
     "metadata": {},
     "output_type": "execute_result"
    }
   ],
   "source": [
    "clean_pct = ml.percent_correct(Ttest, ml.batched_use(nnet, Xtest, 100))\n",
    "noise_pct = ml.percent_correct(Ttest, ml.batched_use(nnet, noise_Xtest, 100))\n",
    "lessnoise_pct = ml.percent_correct(Ttest, ml.batched_use(nnet, lessnoise_Xtest, 100))\n",
    "morenoise_pct = ml.percent_correct(Ttest, ml.batched_use(nnet, morenoise_Xtest, 100))\n",
    "(clean_pct, lessnoise_pct, noise_pct, morenoise_pct)"
   ]
  },
  {
   "cell_type": "code",
   "execution_count": 205,
   "metadata": {},
   "outputs": [
    {
     "data": {
      "text/plain": [
       "Sequential(\n",
       "  (0): Conv2d(3, 64, kernel_size=(3, 3), stride=(1, 1), padding=(1, 1))\n",
       "  (1): BatchNorm2d(64, eps=1e-05, momentum=0.1, affine=True, track_running_stats=True)\n",
       "  (2): ReLU()\n",
       "  (3): Conv2d(64, 64, kernel_size=(3, 3), stride=(1, 1), padding=(1, 1))\n",
       "  (4): BatchNorm2d(64, eps=1e-05, momentum=0.1, affine=True, track_running_stats=True)\n",
       "  (5): ReLU()\n",
       "  (6): MaxPool2d(kernel_size=2, stride=2, padding=0, dilation=1, ceil_mode=False)\n",
       "  (7): Dropout(p=0.2, inplace=False)\n",
       "  (8): Conv2d(64, 128, kernel_size=(3, 3), stride=(1, 1), padding=(1, 1))\n",
       "  (9): BatchNorm2d(128, eps=1e-05, momentum=0.1, affine=True, track_running_stats=True)\n",
       "  (10): ReLU()\n",
       "  (11): Conv2d(128, 128, kernel_size=(3, 3), stride=(1, 1), padding=(1, 1))\n",
       "  (12): BatchNorm2d(128, eps=1e-05, momentum=0.1, affine=True, track_running_stats=True)\n",
       "  (13): ReLU()\n",
       "  (14): MaxPool2d(kernel_size=2, stride=2, padding=0, dilation=1, ceil_mode=False)\n",
       "  (15): Dropout(p=0.2, inplace=False)\n",
       "  (16): Conv2d(128, 256, kernel_size=(3, 3), stride=(1, 1), padding=(1, 1))\n",
       "  (17): BatchNorm2d(256, eps=1e-05, momentum=0.1, affine=True, track_running_stats=True)\n",
       "  (18): ReLU()\n",
       "  (19): Conv2d(256, 256, kernel_size=(3, 3), stride=(1, 1), padding=(1, 1))\n",
       "  (20): BatchNorm2d(256, eps=1e-05, momentum=0.1, affine=True, track_running_stats=True)\n",
       "  (21): ReLU()\n",
       "  (22): MaxPool2d(kernel_size=2, stride=2, padding=0, dilation=1, ceil_mode=False)\n",
       "  (23): Dropout(p=0.2, inplace=False)\n",
       "  (24): Conv2d(256, 512, kernel_size=(3, 3), stride=(1, 1), padding=(1, 1))\n",
       "  (25): BatchNorm2d(512, eps=1e-05, momentum=0.1, affine=True, track_running_stats=True)\n",
       "  (26): ReLU()\n",
       "  (27): Conv2d(512, 512, kernel_size=(3, 3), stride=(1, 1), padding=(1, 1))\n",
       "  (28): BatchNorm2d(512, eps=1e-05, momentum=0.1, affine=True, track_running_stats=True)\n",
       "  (29): ReLU()\n",
       "  (30): MaxPool2d(kernel_size=2, stride=2, padding=0, dilation=1, ceil_mode=False)\n",
       "  (31): Dropout(p=0.2, inplace=False)\n",
       "  (32): Flatten()\n",
       "  (33): Linear(in_features=2048, out_features=256, bias=True)\n",
       "  (34): ReLU()\n",
       "  (35): Linear(in_features=256, out_features=512, bias=True)\n",
       "  (36): ReLU()\n",
       "  (37): Linear(in_features=512, out_features=10, bias=True)\n",
       ")"
      ]
     },
     "execution_count": 205,
     "metadata": {},
     "output_type": "execute_result"
    }
   ],
   "source": [
    "transfer_network = nnet.transfer_learn_setup([256, 512], overwrite_network=True, freeze=False)\n",
    "transfer_network"
   ]
  },
  {
   "cell_type": "code",
   "execution_count": 206,
   "metadata": {},
   "outputs": [
    {
     "name": "stdout",
     "output_type": "stream",
     "text": [
      "Epoch 1 error 0.12701\n",
      "Epoch 2 error 0.05766\n",
      "Epoch 3 error 0.06599\n",
      "Epoch 4 error 0.06534\n",
      "Epoch 5 error 0.03360\n"
     ]
    }
   ],
   "source": [
    "nnet.train(noise_Xtrain, Ttrain, n_epochs=5, batch_size=200,\n",
    "           optim='Adam', learning_rate=0.0005, verbose=True)"
   ]
  },
  {
   "cell_type": "code",
   "execution_count": 207,
   "metadata": {},
   "outputs": [
    {
     "data": {
      "text/plain": [
       "(82.62, 83.56, 83.73, 69.28999999999999)"
      ]
     },
     "execution_count": 207,
     "metadata": {},
     "output_type": "execute_result"
    }
   ],
   "source": [
    "clean_pct = ml.percent_correct(Ttest, ml.batched_use(nnet, Xtest, 100))\n",
    "noise_pct = ml.percent_correct(Ttest, ml.batched_use(nnet, noise_Xtest, 100))\n",
    "lessnoise_pct = ml.percent_correct(Ttest, ml.batched_use(nnet, lessnoise_Xtest, 100))\n",
    "morenoise_pct = ml.percent_correct(Ttest, ml.batched_use(nnet, morenoise_Xtest, 100))\n",
    "(clean_pct, lessnoise_pct, noise_pct, morenoise_pct)"
   ]
  },
  {
   "cell_type": "code",
   "execution_count": 26,
   "metadata": {},
   "outputs": [
    {
     "data": {
      "text/plain": [
       "(84.15, 84.7, 82.25, 51.77)"
      ]
     },
     "execution_count": 26,
     "metadata": {},
     "output_type": "execute_result"
    }
   ],
   "source": [
    "clean_pct = ml.percent_correct(Ttest, ml.batched_use(nnet, Xtest, 100))\n",
    "noise_pct = ml.percent_correct(Ttest, ml.batched_use(nnet, noise_Xtest, 100))\n",
    "lessnoise_pct = ml.percent_correct(Ttest, ml.batched_use(nnet, lessnoise_Xtest, 100))\n",
    "morenoise_pct = ml.percent_correct(Ttest, ml.batched_use(nnet, morenoise_Xtest, 100))\n",
    "(clean_pct, lessnoise_pct, noise_pct, morenoise_pct)"
   ]
  },
  {
   "cell_type": "markdown",
   "metadata": {},
   "source": [
    "## Plotting Transfer Learning Results"
   ]
  },
  {
   "cell_type": "code",
   "execution_count": 35,
   "metadata": {},
   "outputs": [
    {
     "name": "stdout",
     "output_type": "stream",
     "text": [
      "Epoch 1 error 0.11042\n",
      "Epoch 2 error 0.06881\n",
      "Epoch 3 error 0.10979\n",
      "Epoch 4 error 0.04882\n",
      "Epoch 5 error 0.04916\n",
      "Epoch 6 error 0.04672\n",
      "Epoch 7 error 0.07684\n",
      "Epoch 8 error 0.04518\n",
      "Epoch 9 error 0.03732\n",
      "Epoch 10 error 0.05553\n"
     ]
    },
    {
     "data": {
      "application/vnd.jupyter.widget-view+json": {
       "model_id": "550662bda39f402f865f08a06307dc72",
       "version_major": 2,
       "version_minor": 0
      },
      "text/plain": [
       "FloatProgress(value=0.0, max=5.0)"
      ]
     },
     "metadata": {},
     "output_type": "display_data"
    },
    {
     "name": "stdout",
     "output_type": "stream",
     "text": [
      "Epoch 1 error 0.31086\n",
      "Epoch 2 error 0.22993\n",
      "Epoch 3 error 0.21027\n",
      "Epoch 4 error 0.15766\n",
      "Epoch 5 error 0.20218\n",
      "Epoch 6 error 0.23977\n",
      "Epoch 7 error 0.27837\n",
      "Epoch 8 error 0.15961\n",
      "Epoch 9 error 0.11501\n",
      "Epoch 10 error 0.21371\n"
     ]
    },
    {
     "data": {
      "application/vnd.jupyter.widget-view+json": {
       "model_id": "04bf87fbf06a460da5a1fd8bab651cd5",
       "version_major": 2,
       "version_minor": 0
      },
      "text/plain": [
       "FloatProgress(value=0.0, max=5.0)"
      ]
     },
     "metadata": {},
     "output_type": "display_data"
    },
    {
     "name": "stdout",
     "output_type": "stream",
     "text": [
      "Epoch 1 error 0.65080\n",
      "Epoch 2 error 0.54928\n",
      "Epoch 3 error 0.53250\n",
      "Epoch 4 error 0.59626\n",
      "Epoch 5 error 0.52486\n",
      "Epoch 6 error 0.53409\n",
      "Epoch 7 error 0.45697\n",
      "Epoch 8 error 0.47659\n",
      "Epoch 9 error 0.47861\n",
      "Epoch 10 error 0.50568\n"
     ]
    },
    {
     "data": {
      "application/vnd.jupyter.widget-view+json": {
       "model_id": "cf61639159194e6ba604048b651843d4",
       "version_major": 2,
       "version_minor": 0
      },
      "text/plain": [
       "FloatProgress(value=0.0, max=5.0)"
      ]
     },
     "metadata": {},
     "output_type": "display_data"
    }
   ],
   "source": [
    "res_list = []\n",
    "for ds, name in zip([lessnoise_Xtrain, noise_Xtrain, morenoise_Xtrain], ['0.025v', '0.05v', '0.1v']):\n",
    "    with open('./pretrained_cifar_clean.pkl', 'rb') as f:\n",
    "        nnet = torch.load(f)\n",
    "    nnet.transfer_learn_setup([256, 512])\n",
    "    nnet.train(ds, Ttrain, n_epochs=10, batch_size=200, optim='Adam', learning_rate=0.0005, verbose=True)\n",
    "    \n",
    "    res_list.append((name, per.run_increasing_noise(nnet, Xtest, Ttest, trials_per_step=1)))"
   ]
  },
  {
   "cell_type": "code",
   "execution_count": 36,
   "metadata": {
    "scrolled": false
   },
   "outputs": [
    {
     "data": {
      "text/plain": [
       "[('0.025v',\n",
       "  (array([0.001  , 0.01325, 0.0255 , 0.03775, 0.05   ]),\n",
       "   array([87.09, 87.16, 86.48, 83.27, 76.58]),\n",
       "   array([0., 0., 0., 0., 0.]))),\n",
       " ('0.05v',\n",
       "  (array([0.001  , 0.01325, 0.0255 , 0.03775, 0.05   ]),\n",
       "   array([81.31, 82.5 , 84.39, 84.97, 84.02]),\n",
       "   array([0., 0., 0., 0., 0.]))),\n",
       " ('0.1v',\n",
       "  (array([0.001  , 0.01325, 0.0255 , 0.03775, 0.05   ]),\n",
       "   array([66.53, 67.93, 70.68, 73.76, 76.11]),\n",
       "   array([0., 0., 0., 0., 0.])))]"
      ]
     },
     "execution_count": 36,
     "metadata": {},
     "output_type": "execute_result"
    }
   ],
   "source": [
    "res_list"
   ]
  },
  {
   "cell_type": "code",
   "execution_count": 52,
   "metadata": {},
   "outputs": [
    {
     "data": {
      "image/png": "[encoded data removed]",
      "text/plain": [
       "<Figure size 432x288 with 1 Axes>"
      ]
     },
     "metadata": {
      "needs_background": "light"
     },
     "output_type": "display_data"
    }
   ],
   "source": [
    "per.plot_increasing_noise(clean_pct, res_list, (0.001, 0.05), 5, 'delme.pdf')"
   ]
  },
  {
   "cell_type": "code",
   "execution_count": 30,
   "metadata": {},
   "outputs": [
    {
     "data": {
      "application/vnd.jupyter.widget-view+json": {
       "model_id": "79ddc9bb85a34c94897081c9164de9bd",
       "version_major": 2,
       "version_minor": 0
      },
      "text/plain": [
       "FloatProgress(value=0.0, max=5.0)"
      ]
     },
     "metadata": {},
     "output_type": "display_data"
    },
    {
     "data": {
      "image/png": "[encoded data removed]",
      "text/plain": [
       "<Figure size 432x288 with 1 Axes>"
      ]
     },
     "metadata": {
      "needs_background": "light"
     },
     "output_type": "display_data"
    }
   ],
   "source": [
    "per.test_increasing_noise(nnet, Xtest, Ttest, var_range=(0.001, 0.1), trials_per_step=1)"
   ]
  },
  {
   "cell_type": "markdown",
   "metadata": {},
   "source": [
    "## Transfer Learning on MNIST"
   ]
  },
  {
   "cell_type": "code",
   "execution_count": 3,
   "metadata": {},
   "outputs": [],
   "source": [
    "Xtrain, Ttrain, Xtest, Ttest, _, _ = dm.load_mnist('./mnist.pkl.gz')"
   ]
  },
  {
   "cell_type": "code",
   "execution_count": 4,
   "metadata": {},
   "outputs": [],
   "source": [
    "noise_Xtrain = dm.apply_manipulations(Xtrain, per_func=lambda x: per.add_image_noise(x, variance=0.05))\n",
    "noise_Xtest = dm.apply_manipulations(Xtest, per_func=lambda x: per.add_image_noise(x, variance=0.05))"
   ]
  },
  {
   "cell_type": "code",
   "execution_count": 5,
   "metadata": {},
   "outputs": [],
   "source": [
    "morenoise_Xtrain = dm.apply_manipulations(Xtrain, per_func=lambda x: per.add_image_noise(x, variance=0.1))\n",
    "morenoise_Xtest = dm.apply_manipulations(Xtest, per_func=lambda x: per.add_image_noise(x, variance=0.1)) "
   ]
  },
  {
   "cell_type": "code",
   "execution_count": 6,
   "metadata": {},
   "outputs": [],
   "source": [
    "lessnoise_Xtrain = dm.apply_manipulations(Xtrain, per_func=lambda x: per.add_image_noise(x, variance=0.025))\n",
    "lessnoise_Xtest = dm.apply_manipulations(Xtest, per_func=lambda x: per.add_image_noise(x, variance=0.025)) "
   ]
  },
  {
   "cell_type": "code",
   "execution_count": 160,
   "metadata": {},
   "outputs": [],
   "source": [
    "if os.path.exists('./pretrained_mnist_clean.pkl'):\n",
    "    with open('./pretrained_mnist_clean.pkl', 'rb') as f:\n",
    "        nnet = torch.load(f)\n",
    "        nnet.cuda()\n",
    "else:\n",
    "    nnet = per.train_mnist(Xtrain, Ttrain, verbose=True)"
   ]
  },
  {
   "cell_type": "code",
   "execution_count": 161,
   "metadata": {},
   "outputs": [
    {
     "data": {
      "text/plain": [
       "NeuralNetwork_Convolutional(\n",
       "                            n_channels_in_image=1,\n",
       "                            image_size=28,\n",
       "                            n_units_in_conv_layers=[10],\n",
       "                            kernels_size_and_stride=[(7, 3)],\n",
       "                            max_pooling_kernels_and_stride=[(2, 2)],\n",
       "                            n_units_in_fc_hidden_layers=[],\n",
       "                            classes=[0 1 2 3 4 5 6 7 8 9],\n",
       "                            use_gpu=True)\n",
       "Sequential(\n",
       "  (conv_0): Conv2d(1, 10, kernel_size=(7, 7), stride=(3, 3))\n",
       "  (norm_0): BatchNorm2d(10, eps=1e-05, momentum=0.1, affine=True, track_running_stats=True)\n",
       "  (output_0): ReLU()\n",
       "  (pool_0): MaxPool2d(kernel_size=2, stride=2, padding=0, dilation=1, ceil_mode=False)\n",
       "  (drop_0): Dropout(p=0.2, inplace=False)\n",
       "  (flatten): Flatten()\n",
       "  (output_1): Linear(in_features=160, out_features=10, bias=True)\n",
       ")\n",
       "   Network was trained for 50 epochs with a batch size of 1500 and took 6.1463 seconds.\n",
       "   Final objective value is 0.170"
      ]
     },
     "execution_count": 161,
     "metadata": {},
     "output_type": "execute_result"
    }
   ],
   "source": [
    "nnet"
   ]
  },
  {
   "cell_type": "code",
   "execution_count": 162,
   "metadata": {},
   "outputs": [],
   "source": [
    "if not os.path.exists('./pretrained_mnist_clean.pkl'):\n",
    "    with open('./pretrained_mnist_clean.pkl', 'wb') as f:\n",
    "            torch.save(nnet, f)"
   ]
  },
  {
   "cell_type": "code",
   "execution_count": 163,
   "metadata": {},
   "outputs": [
    {
     "data": {
      "text/plain": [
       "(97.42, 28.060000000000002, 18.09, 13.59)"
      ]
     },
     "execution_count": 163,
     "metadata": {},
     "output_type": "execute_result"
    }
   ],
   "source": [
    "clean_pct = ml.percent_correct(Ttest, ml.batched_use(nnet, Xtest, 100))\n",
    "noise_pct = ml.percent_correct(Ttest, ml.batched_use(nnet, noise_Xtest, 100))\n",
    "lessnoise_pct = ml.percent_correct(Ttest, ml.batched_use(nnet, lessnoise_Xtest, 100))\n",
    "morenoise_pct = ml.percent_correct(Ttest, ml.batched_use(nnet, morenoise_Xtest, 100))\n",
    "(clean_pct, lessnoise_pct, noise_pct, morenoise_pct)"
   ]
  },
  {
   "cell_type": "code",
   "execution_count": 164,
   "metadata": {},
   "outputs": [
    {
     "data": {
      "text/plain": [
       "Sequential(\n",
       "  (0): Conv2d(1, 10, kernel_size=(7, 7), stride=(3, 3))\n",
       "  (1): BatchNorm2d(10, eps=1e-05, momentum=0.1, affine=True, track_running_stats=True)\n",
       "  (2): ReLU()\n",
       "  (3): MaxPool2d(kernel_size=2, stride=2, padding=0, dilation=1, ceil_mode=False)\n",
       "  (4): Dropout(p=0.2, inplace=False)\n",
       "  (5): Flatten()\n",
       "  (6): Linear(in_features=160, out_features=256, bias=True)\n",
       "  (7): ReLU()\n",
       "  (8): Linear(in_features=256, out_features=10, bias=True)\n",
       ")"
      ]
     },
     "execution_count": 164,
     "metadata": {},
     "output_type": "execute_result"
    }
   ],
   "source": [
    "nnet.transfer_learn_setup([256], freeze=False)"
   ]
  },
  {
   "cell_type": "code",
   "execution_count": 165,
   "metadata": {},
   "outputs": [
    {
     "name": "stdout",
     "output_type": "stream",
     "text": [
      "Epoch 2 error 0.21997\n",
      "Epoch 4 error 0.18007\n",
      "Epoch 6 error 0.16218\n",
      "Epoch 8 error 0.14380\n",
      "Epoch 10 error 0.13490\n",
      "Epoch 12 error 0.12675\n",
      "Epoch 14 error 0.12679\n",
      "Epoch 16 error 0.12592\n",
      "Epoch 18 error 0.12104\n",
      "Epoch 20 error 0.11978\n"
     ]
    }
   ],
   "source": [
    "nnet.train(noise_Xtrain, Ttrain, n_epochs=20, batch_size=200,\n",
    "           optim='Adam', learning_rate=0.0005, verbose=True)"
   ]
  },
  {
   "cell_type": "code",
   "execution_count": 166,
   "metadata": {},
   "outputs": [
    {
     "data": {
      "text/plain": [
       "(95.67, 96.55, 96.17, 89.05999999999999)"
      ]
     },
     "execution_count": 166,
     "metadata": {},
     "output_type": "execute_result"
    }
   ],
   "source": [
    "clean_pct = ml.percent_correct(Ttest, ml.batched_use(nnet, Xtest, 100))\n",
    "noise_pct = ml.percent_correct(Ttest, ml.batched_use(nnet, noise_Xtest, 100))\n",
    "lessnoise_pct = ml.percent_correct(Ttest, ml.batched_use(nnet, lessnoise_Xtest, 100))\n",
    "morenoise_pct = ml.percent_correct(Ttest, ml.batched_use(nnet, morenoise_Xtest, 100))\n",
    "(clean_pct, lessnoise_pct, noise_pct, morenoise_pct)"
   ]
  },
  {
   "cell_type": "code",
   "execution_count": 167,
   "metadata": {},
   "outputs": [
    {
     "data": {
      "text/plain": [
       "(95.67, 96.55, 96.17, 89.05999999999999)"
      ]
     },
     "execution_count": 167,
     "metadata": {},
     "output_type": "execute_result"
    }
   ],
   "source": [
    "clean_pct = ml.percent_correct(Ttest, ml.batched_use(nnet, Xtest, 100))\n",
    "noise_pct = ml.percent_correct(Ttest, ml.batched_use(nnet, noise_Xtest, 100))\n",
    "lessnoise_pct = ml.percent_correct(Ttest, ml.batched_use(nnet, lessnoise_Xtest, 100))\n",
    "morenoise_pct = ml.percent_correct(Ttest, ml.batched_use(nnet, morenoise_Xtest, 100))\n",
    "(clean_pct, lessnoise_pct, noise_pct, morenoise_pct)"
   ]
  }
 ],
 "metadata": {
  "kernelspec": {
   "display_name": "Python 3",
   "language": "python",
   "name": "python3"
  },
  "language_info": {
   "codemirror_mode": {
    "name": "ipython",
    "version": 3
   },
   "file_extension": ".py",
   "mimetype": "text/x-python",
   "name": "python",
   "nbconvert_exporter": "python",
   "pygments_lexer": "ipython3",
   "version": "3.7.3"
  }
 },
 "nbformat": 4,
 "nbformat_minor": 2
}
