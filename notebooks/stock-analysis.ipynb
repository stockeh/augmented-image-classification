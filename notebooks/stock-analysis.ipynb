{
 "cells": [
  {
   "cell_type": "code",
   "execution_count": 1,
   "metadata": {},
   "outputs": [],
   "source": [
    "from IPython.display import display\n",
    "from ipywidgets import FloatProgress\n",
    "import pickle, gzip\n",
    "import numpy as np\n",
    "import copy\n",
    "\n",
    "import sys\n",
    "sys.path.append('../src')\n",
    "\n",
    "import neuralnetworkclassifierTEST as nncTEST\n",
    "import dataset_manipulations as dm\n",
    "import mlutils as ml\n",
    "import perturb as per\n",
    "\n",
    "import matplotlib.pyplot as plt\n",
    "\n",
    "%config InlineBackend.figure_format = 'retina'\n",
    "%matplotlib inline\n",
    "\n",
    "from matplotlib import rc\n",
    "rc('font',**{'family':'sans-serif','sans-serif':['Helvetica']})\n",
    "rc('text', usetex=True)\n",
    "plt.style.use('seaborn-whitegrid')"
   ]
  },
  {
   "cell_type": "code",
   "execution_count": 2,
   "metadata": {},
   "outputs": [],
   "source": [
    "import imp\n",
    "imp.reload(nncTEST);"
   ]
  },
  {
   "cell_type": "code",
   "execution_count": 3,
   "metadata": {},
   "outputs": [],
   "source": [
    "Xtrain, Ttrain = dm.load_cifar_10('cifar-10-batches-py/data_batch_*')\n",
    "Xtest, Ttest = dm.load_cifar_10('cifar-10-batches-py/test_batch')"
   ]
  },
  {
   "cell_type": "code",
   "execution_count": 4,
   "metadata": {},
   "outputs": [
    {
     "name": "stdout",
     "output_type": "stream",
     "text": [
      "Epoch 2 error 1.01538\n",
      "Epoch 4 error 0.61498\n",
      "Epoch 6 error 0.60246\n",
      "Epoch 8 error 0.32425\n",
      "Epoch 10 error 0.32585\n",
      "Epoch 12 error 0.20780\n",
      "Epoch 14 error 0.29149\n",
      "Epoch 16 error 0.10980\n",
      "Epoch 18 error 0.15860\n",
      "Epoch 20 error 0.13964\n"
     ]
    }
   ],
   "source": [
    "nnet = nncTEST.NeuralNetwork_Convolutional(n_channels_in_image=Xtrain.shape[1],\n",
    "                           image_size=Xtrain.shape[2],\n",
    "                           n_units_in_conv_layers=[64, 64, 128, 128, 256, 256, 512, 512],\n",
    "                           kernels_size_and_stride=[(3, 1, 1), (3, 1, 1), (3, 1, 1), (3, 1, 1), (3, 1, 1), (3, 1, 1), (3, 1, 1), (3, 1, 1)],\n",
    "                           max_pooling_kernels_and_stride=[(), (2, 2), (), (2, 2), (), (2, 2), (), (2, 2)],\n",
    "                           n_units_in_fc_hidden_layers=[],\n",
    "                           classes=np.unique(Ttrain), use_gpu=True, random_seed=12)\n",
    "\n",
    "nnet.train(Xtrain, Ttrain, n_epochs=20, batch_size=100,\n",
    "           optim='Adam', learning_rate=0.0005, verbose=True)"
   ]
  },
  {
   "cell_type": "code",
   "execution_count": 5,
   "metadata": {},
   "outputs": [
    {
     "name": "stdout",
     "output_type": "stream",
     "text": [
      "Train Percentage: 98.230%, Test Percentage: 82.080%\n"
     ]
    }
   ],
   "source": [
    "train_percent = ml.percent_correct(ml.batched_use(nnet, Xtrain), Ttrain)\n",
    "\n",
    "test_percent  = ml.percent_correct(ml.batched_use(nnet, Xtest), Ttest)\n",
    "\n",
    "print(f'Train Percentage: {train_percent:.3f}%, Test Percentage: {test_percent:.3f}%')"
   ]
  },
  {
   "cell_type": "code",
   "execution_count": null,
   "metadata": {},
   "outputs": [],
   "source": []
  }
 ],
 "metadata": {
  "kernelspec": {
   "display_name": "Python 3",
   "language": "python",
   "name": "python3"
  },
  "language_info": {
   "codemirror_mode": {
    "name": "ipython",
    "version": 3
   },
   "file_extension": ".py",
   "mimetype": "text/x-python",
   "name": "python",
   "nbconvert_exporter": "python",
   "pygments_lexer": "ipython3",
   "version": "3.7.3"
  }
 },
 "nbformat": 4,
 "nbformat_minor": 2
}
