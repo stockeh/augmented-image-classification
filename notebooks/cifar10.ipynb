{
 "cells": [
  {
   "cell_type": "code",
   "execution_count": 2,
   "metadata": {
    "colab": {},
    "colab_type": "code",
    "id": "8mXPaOXRy7QP"
   },
   "outputs": [
    {
     "ename": "ModuleNotFoundError",
     "evalue": "No module named 'ipywidgets'",
     "output_type": "error",
     "traceback": [
      "\u001b[0;31m---------------------------------------------------------------------------\u001b[0m",
      "\u001b[0;31mModuleNotFoundError\u001b[0m                       Traceback (most recent call last)",
      "\u001b[0;32m<ipython-input-2-2543010bc33b>\u001b[0m in \u001b[0;36m<module>\u001b[0;34m\u001b[0m\n\u001b[1;32m      1\u001b[0m \u001b[0;32mfrom\u001b[0m \u001b[0mIPython\u001b[0m\u001b[0;34m.\u001b[0m\u001b[0mdisplay\u001b[0m \u001b[0;32mimport\u001b[0m \u001b[0mdisplay\u001b[0m\u001b[0;34m\u001b[0m\u001b[0;34m\u001b[0m\u001b[0m\n\u001b[0;32m----> 2\u001b[0;31m \u001b[0;32mfrom\u001b[0m \u001b[0mipywidgets\u001b[0m \u001b[0;32mimport\u001b[0m \u001b[0mFloatProgress\u001b[0m\u001b[0;34m\u001b[0m\u001b[0;34m\u001b[0m\u001b[0m\n\u001b[0m\u001b[1;32m      3\u001b[0m \u001b[0;34m\u001b[0m\u001b[0m\n\u001b[1;32m      4\u001b[0m \u001b[0;32mimport\u001b[0m \u001b[0msys\u001b[0m\u001b[0;34m\u001b[0m\u001b[0;34m\u001b[0m\u001b[0m\n\u001b[1;32m      5\u001b[0m \u001b[0msys\u001b[0m\u001b[0;34m.\u001b[0m\u001b[0mpath\u001b[0m\u001b[0;34m.\u001b[0m\u001b[0mappend\u001b[0m\u001b[0;34m(\u001b[0m\u001b[0;34m'../src'\u001b[0m\u001b[0;34m)\u001b[0m\u001b[0;34m\u001b[0m\u001b[0;34m\u001b[0m\u001b[0m\n",
      "\u001b[0;31mModuleNotFoundError\u001b[0m: No module named 'ipywidgets'"
     ]
    }
   ],
   "source": [
    "from IPython.display import display\n",
    "from ipywidgets import FloatProgress\n",
    "\n",
    "import sys\n",
    "sys.path.append('../src')\n",
    "\n",
    "import neuralnetworkclassifier as nnc\n",
    "import mlutils as ml\n",
    "\n",
    "import numpy as np\n",
    "import pandas as pd\n",
    "import itertools\n",
    "import copy\n",
    "import pickle\n",
    "import glob\n",
    "\n",
    "import matplotlib.pyplot as plt\n",
    "\n",
    "%config InlineBackend.figure_format = 'retina'\n",
    "%matplotlib inline\n",
    "\n",
    "from matplotlib import rc\n",
    "rc('font',**{'family':'sans-serif','sans-serif':['Helvetica']})\n",
    "rc('text', usetex=True)\n",
    "plt.style.use('seaborn-whitegrid')"
   ]
  },
  {
   "cell_type": "code",
   "execution_count": 6,
   "metadata": {},
   "outputs": [],
   "source": [
    "# !curl -O http://www.cs.toronto.edu/~kriz/cifar-10-python.tar.gz\n",
    "# !tar -xvf cifar-10-python.tar.gz"
   ]
  },
  {
   "cell_type": "code",
   "execution_count": 3,
   "metadata": {
    "colab": {},
    "colab_type": "code",
    "id": "EdN2bBVCzsxp"
   },
   "outputs": [
    {
     "ename": "NameError",
     "evalue": "name 'glob' is not defined",
     "output_type": "error",
     "traceback": [
      "\u001b[0;31m---------------------------------------------------------------------------\u001b[0m",
      "\u001b[0;31mNameError\u001b[0m                                 Traceback (most recent call last)",
      "\u001b[0;32m<ipython-input-3-1db4f5f30216>\u001b[0m in \u001b[0;36m<module>\u001b[0;34m\u001b[0m\n\u001b[1;32m     17\u001b[0m \u001b[0;34m\u001b[0m\u001b[0m\n\u001b[1;32m     18\u001b[0m \u001b[0;34m\u001b[0m\u001b[0m\n\u001b[0;32m---> 19\u001b[0;31m \u001b[0mXtrain\u001b[0m\u001b[0;34m,\u001b[0m \u001b[0mTtrain\u001b[0m \u001b[0;34m=\u001b[0m \u001b[0mload\u001b[0m\u001b[0;34m(\u001b[0m\u001b[0;34m'data_batch_*'\u001b[0m\u001b[0;34m)\u001b[0m\u001b[0;34m\u001b[0m\u001b[0;34m\u001b[0m\u001b[0m\n\u001b[0m\u001b[1;32m     20\u001b[0m \u001b[0mXtest\u001b[0m\u001b[0;34m,\u001b[0m \u001b[0mTtest\u001b[0m\u001b[0;34m,\u001b[0m \u001b[0;34m=\u001b[0m \u001b[0mload\u001b[0m\u001b[0;34m(\u001b[0m\u001b[0;34m'test_batch'\u001b[0m\u001b[0;34m)\u001b[0m\u001b[0;34m\u001b[0m\u001b[0;34m\u001b[0m\u001b[0m\n\u001b[1;32m     21\u001b[0m \u001b[0;34m\u001b[0m\u001b[0m\n",
      "\u001b[0;32m<ipython-input-3-1db4f5f30216>\u001b[0m in \u001b[0;36mload\u001b[0;34m(file_name)\u001b[0m\n\u001b[1;32m      2\u001b[0m     \u001b[0mdata\u001b[0m \u001b[0;34m=\u001b[0m \u001b[0;34m[\u001b[0m\u001b[0;34m]\u001b[0m\u001b[0;34m\u001b[0m\u001b[0;34m\u001b[0m\u001b[0m\n\u001b[1;32m      3\u001b[0m \u001b[0;34m\u001b[0m\u001b[0m\n\u001b[0;32m----> 4\u001b[0;31m     \u001b[0;32mfor\u001b[0m \u001b[0mfile\u001b[0m \u001b[0;32min\u001b[0m \u001b[0mglob\u001b[0m\u001b[0;34m.\u001b[0m\u001b[0mglob\u001b[0m\u001b[0;34m(\u001b[0m\u001b[0;34m'cifar-10-batches-py/'\u001b[0m \u001b[0;34m+\u001b[0m \u001b[0mfile_name\u001b[0m\u001b[0;34m)\u001b[0m\u001b[0;34m:\u001b[0m\u001b[0;34m\u001b[0m\u001b[0;34m\u001b[0m\u001b[0m\n\u001b[0m\u001b[1;32m      5\u001b[0m         \u001b[0;32mwith\u001b[0m \u001b[0mopen\u001b[0m\u001b[0;34m(\u001b[0m\u001b[0mfile\u001b[0m\u001b[0;34m,\u001b[0m \u001b[0;34m'rb'\u001b[0m\u001b[0;34m)\u001b[0m \u001b[0;32mas\u001b[0m \u001b[0mfo\u001b[0m\u001b[0;34m:\u001b[0m\u001b[0;34m\u001b[0m\u001b[0;34m\u001b[0m\u001b[0m\n\u001b[1;32m      6\u001b[0m             \u001b[0mdata\u001b[0m\u001b[0;34m.\u001b[0m\u001b[0mappend\u001b[0m\u001b[0;34m(\u001b[0m\u001b[0mpickle\u001b[0m\u001b[0;34m.\u001b[0m\u001b[0mload\u001b[0m\u001b[0;34m(\u001b[0m\u001b[0mfo\u001b[0m\u001b[0;34m,\u001b[0m \u001b[0mencoding\u001b[0m\u001b[0;34m=\u001b[0m\u001b[0;34m'bytes'\u001b[0m\u001b[0;34m)\u001b[0m\u001b[0;34m)\u001b[0m\u001b[0;34m\u001b[0m\u001b[0;34m\u001b[0m\u001b[0m\n",
      "\u001b[0;31mNameError\u001b[0m: name 'glob' is not defined"
     ]
    }
   ],
   "source": [
    "def load(file_name):\n",
    "    data = []\n",
    "    \n",
    "    for file in glob.glob('cifar-10-batches-py/' + file_name):\n",
    "        with open(file, 'rb') as fo:\n",
    "            data.append(pickle.load(fo, encoding='bytes'))\n",
    "            \n",
    "    images = np.array(data[0][b'data'])\n",
    "    labels = np.array(data[0][b'labels'])\n",
    "\n",
    "    if len(data) > 1:\n",
    "        for i in range(1, len(data)):\n",
    "            images = np.concatenate((images, data[i][b'data']), axis=0)\n",
    "            labels = np.concatenate((labels, data[i][b'labels']), axis=0)\n",
    "    \n",
    "    return (images.reshape(-1, 3, 32, 32)/255.0).astype(np.float32), labels.reshape((-1, 1))\n",
    "\n",
    "\n",
    "Xtrain, Ttrain = load('data_batch_*')\n",
    "Xtest, Ttest, = load('test_batch')\n",
    "\n",
    "print(Xtrain.shape, Ttrain.shape, Xtest.shape, Ttest.shape)\n",
    "    \n",
    "with open('cifar-10-batches-py/batches.meta', 'rb') as f:\n",
    "    class_names = pickle.load(f, encoding='bytes')\n",
    "class_names = class_names[b'label_names']\n",
    "classes = np.unique(Ttrain)\n",
    "    \n",
    "def imshow(Xset, Tset):\n",
    "    plt.figure(figsize=(12, 12))\n",
    "    for i in range(25):\n",
    "        plt.subplot(5, 5, i + 1)\n",
    "        plt.imshow(np.moveaxis(Xset[i,...], 0, 2), interpolation='nearest')\n",
    "        plt.axis('off')\n",
    "        unicode = class_names[Tset[i][0]].decode('utf-8')\n",
    "        plt.title(unicode) \n",
    "\n",
    "    plt.tight_layout()\n",
    "    \n",
    "imshow(Xtest, Ttest)"
   ]
  },
  {
   "cell_type": "code",
   "execution_count": 8,
   "metadata": {},
   "outputs": [],
   "source": [
    "def run_parameters(Xtrain, Ttrain, Xtest, Ttest, n_epochs, rhos, conv_layers, kernels,\n",
    "                   conn_layers, use_gpu=False):\n",
    "    results = pd.DataFrame(columns=['algo', 'epochs', 'rho', 'conv_layers', 'kernels', \n",
    "                                    'conn_layers', 'train_accuracy', 'test_accuracy'])\n",
    "    algo = 'Adam'\n",
    "    top = 0\n",
    "    f = FloatProgress(min=0, max=(len(n_epochs) * len(rhos) * len(conv_layers) * len(conn_layers)))\n",
    "    display(f)\n",
    "    for epochs, rho, conv, conn in itertools.product(n_epochs, rhos, conv_layers, conn_layers):\n",
    "        \n",
    "        kern = [] if len(conv) == 0 else kernels[len(conv) - 1]\n",
    "        \n",
    "        nnet = nnc.NeuralNetwork_Convolutional(n_channels_in_image=Xtrain.shape[1],\n",
    "                                               image_size=Xtrain.shape[2],\n",
    "                                               n_units_in_conv_layers=conv, \n",
    "                                               kernels_size_and_stride=kern,\n",
    "                                               n_units_in_fc_hidden_layers=conn,\n",
    "                                               classes=np.unique(Ttrain), use_gpu=use_gpu)\n",
    "\n",
    "        nnet.train(Xtrain, Ttrain, epochs, algo, learning_rate=rho, verbose=False)\n",
    "\n",
    "        classes, Y = nnet.use(Xtrain)\n",
    "        train_percent = ml.percent_correct(Ttrain, classes)\n",
    "\n",
    "        classes, Y = nnet.use(Xtest)\n",
    "        test_percent = ml.percent_correct(Ttest, classes)\n",
    "        \n",
    "        results.loc[len(results)] = [algo, epochs, rho, conv, kern,\n",
    "                                     conn, train_percent, test_percent]\n",
    "        \n",
    "        if test_percent > top:\n",
    "            best_nnet = nnet\n",
    "            top = test_percent\n",
    "        \n",
    "        f.value += 1\n",
    "    \n",
    "    return results, best_nnet"
   ]
  },
  {
   "cell_type": "code",
   "execution_count": null,
   "metadata": {},
   "outputs": [],
   "source": [
    "# n_epochs = [ 2000 ]\n",
    "\n",
    "# rhos = [ 0.001 ]\n",
    "\n",
    "# conn_layers = [[]]\n",
    "\n",
    "# conv_layers = [[],\n",
    "#                [],\n",
    "#                [35,35,35,35]]\n",
    "\n",
    "# kernels = [ [],\n",
    "#             [(6,1), (6,1), (8,1), (5,2)]]\n",
    "#             #[(4, 2), (5, 2), (2, 1)]]\n",
    "\n",
    "# results, best_nnet = run_parameters(Xtrain, Ttrain, Xtest, Ttest, n_epochs,\n",
    "#                                     rhos, conv_layers, kernels, conn_layers, use_gpu=True)"
   ]
  },
  {
   "cell_type": "code",
   "execution_count": null,
   "metadata": {},
   "outputs": [],
   "source": [
    "n_epochs = [ 3000 ]\n",
    "\n",
    "rhos = [ 0.01, 0.001 ]\n",
    "\n",
    "conn_layers = [[]]\n",
    "\n",
    "conv_layers = [[]] + [[nu] * nl for nu in [15, 25] for nl in range(3, 4)]\n",
    "\n",
    "kernels = [ [],\n",
    "            [],\n",
    "            [(4, 2), (5, 2), (2, 1)]]\n",
    "\n",
    "results, best_nnet = run_parameters(Xtrain, Ttrain, Xtest, Ttest, n_epochs,\n",
    "                                    rhos, conv_layers, kernels, conn_layers, use_gpu=True)"
   ]
  },
  {
   "cell_type": "code",
   "execution_count": null,
   "metadata": {},
   "outputs": [],
   "source": [
    "df = results.sort_values(by=['test_accuracy'], ascending=False)\n",
    "print('Total of {} trials'.format(results.shape[0]))\n",
    "df.head(10)"
   ]
  },
  {
   "cell_type": "markdown",
   "metadata": {},
   "source": [
    "Original input image: \n",
    "- $d\\times d$ of $c$ channels\n",
    "\n",
    "First convolutional layer with $u_1$ units having kernels sized $k_1\\times k_1$ and strides of $s_1$\n",
    "- input is $d\\times d$ of $c$ channels\n",
    "- output is $z_1\\times z_1$ of $u_1$ channels, where $z_1 = \\frac{d - k_1}{s_1} + 1$"
   ]
  },
  {
   "cell_type": "code",
   "execution_count": null,
   "metadata": {
    "colab": {
     "base_uri": "https://localhost:8080/",
     "height": 187
    },
    "colab_type": "code",
    "id": "R2NrnM0Ay7Qu",
    "outputId": "ad6bc66a-051a-43e3-9ad7-fd05f6721b63"
   },
   "outputs": [],
   "source": [
    "nnet = nnc.NeuralNetwork_Convolutional(n_channels_in_image=Xtrain.shape[1],\n",
    "                                   image_size=Xtrain.shape[2],\n",
    "                                   n_units_in_conv_layers=[25],\n",
    "                                   kernels_size_and_stride=[[4, 3]],\n",
    "                                   n_units_in_fc_hidden_layers=[40,40], \n",
    "                                   classes=classes,\n",
    "                                   use_gpu=True)\n",
    "\n",
    "nnet.train(Xtrain.astype(np.float32), Ttrain.astype(np.float32), 2000, learning_rate=0.0001, verbose=True)"
   ]
  },
  {
   "cell_type": "code",
   "execution_count": null,
   "metadata": {
    "colab": {
     "base_uri": "https://localhost:8080/",
     "height": 279
    },
    "colab_type": "code",
    "id": "wkbdZ4Ryy7Qx",
    "outputId": "37c4c2dc-d77a-4434-adf1-0c733ed4f7a9"
   },
   "outputs": [],
   "source": [
    "plt.plot(nnet.get_error_trace())\n",
    "plt.xlabel('Epochs')\n",
    "plt.ylabel('MSE');"
   ]
  },
  {
   "cell_type": "code",
   "execution_count": null,
   "metadata": {},
   "outputs": [],
   "source": [
    "classes, Y    = nnet.use(Xtrain)\n",
    "train_percent = ml.percent_correct(Ttrain, classes)\n",
    "\n",
    "classes, Y    = nnet.use(Xtest)\n",
    "test_percent  = ml.percent_correct(Ttest, classes)\n",
    "\n",
    "print(f'Train Percentage: {train_percent}, Test Percentage: {test_percent}')"
   ]
  },
  {
   "cell_type": "code",
   "execution_count": null,
   "metadata": {},
   "outputs": [],
   "source": [
    "_ = ml.confusion_matrix(Ttest, classes, np.unique(Ttest))"
   ]
  },
  {
   "cell_type": "code",
   "execution_count": null,
   "metadata": {
    "colab": {},
    "colab_type": "code",
    "id": "hkJ7ZpZmy7Q1"
   },
   "outputs": [],
   "source": [
    "def change_pixel(Xset, pixels_to_change=1, pertrub='stuck'):\n",
    "    Xcopy    = copy.copy(Xset)\n",
    "    bounds   = Xcopy.shape[-1]\n",
    "    \n",
    "    for i in range(len(Xcopy)):\n",
    "        for rounds in range(pixels_to_change):\n",
    "            X = np.random.randint(bounds)\n",
    "            Y = np.random.randint(bounds)\n",
    "            \n",
    "            for C in range(Xcopy.shape[1]):\n",
    "                \n",
    "                if pertrub == 'stuck':\n",
    "                    r = np.random.random(1)\n",
    "                elif pertrub == 'dead':\n",
    "                    r = 0\n",
    "                elif pertrub == 'hot':\n",
    "                    r = 1\n",
    "                    \n",
    "                Xcopy[i:i+1, C:C+1, Y:Y+1, X:X+1] = r\n",
    "            \n",
    "    return Xcopy\n",
    "\n",
    "def imshow(Xset, Xcopy, Tset, same_index, model, name='grid.pdf'):\n",
    "    plt.figure(figsize=(9, 4))\n",
    "    \n",
    "    n_display = same_index[:14] if len(same_index) > 14 else same_index\n",
    "\n",
    "    Xcopy_classes, _ = nnet.use(Xcopy[n_display])\n",
    "    Xset_classes, _  = nnet.use(Xset[n_display])\n",
    "    \n",
    "    print(Xcopy.shape, Xset.shape)\n",
    "    \n",
    "    for i, val in enumerate(n_display):\n",
    "        plt.subplot(2, 7, i + 1)\n",
    "        \n",
    "        if model == 'MNIST':\n",
    "            plt.imshow(Xcopy[val, :].reshape(Xset.shape[-1], Xset.shape[-1]),\n",
    "                       interpolation='nearest', cmap='binary')\n",
    "        if model == 'CIFAR':\n",
    "            plt.imshow(np.moveaxis(Xcopy[val,...], 0, 2), interpolation='nearest')\n",
    "        \n",
    "        plt.title('$X_i$: {0}, $M_i$: {1},\\n$T_i$: {2}'.format(Xset_classes[i][0], \n",
    "                                                              Xcopy_classes[i][0], \n",
    "                                                              Tset[val][0]))\n",
    "        plt.axis('off');\n",
    "        \n",
    "    plt.tight_layout();\n",
    "    plt.savefig(name, bbox_inches='tight')\n",
    "    plt.show();\n",
    "\n",
    "def classified_diff(Xset, Xcopy, Tset):\n",
    "    Xset_classes, _  = nnet.use(Xset)\n",
    "    Xcopy_classes, _ = nnet.use(Xcopy)\n",
    "    \n",
    "    diff_index = [ i for i in range(len(Xset_classes)) \n",
    "                  if Xset_classes[i] == Tset[i] \n",
    "                  and Xset_classes[i] != Xcopy_classes[i] ]\n",
    "    \n",
    "    return diff_index, 100 - ml.percent_correct(Xset_classes, Xcopy_classes)\n",
    "\n",
    "def change_in_pixels_plot(Xset, Tset, end_pixel_val=10, trials_per_pixel=5, \n",
    "                          errorbar=True, pertrub='stuck', name='img.pdf'):\n",
    "    plt.figure(figsize=(6, 4))\n",
    "    change = []\n",
    "    \n",
    "    f = FloatProgress(min=0, max=(end_pixel_val * trials_per_pixel))\n",
    "    display(f)\n",
    "\n",
    "    for pixels in range(end_pixel_val):\n",
    "        percent_diff_arr = []\n",
    "        for trial in range(trials_per_pixel):\n",
    "            Xcopy = change_pixel(Xtest, pixels_to_change=pixels+1, pertrub='stuck')\n",
    "            percent_diff_arr.append(classified_diff(Xtest, Xcopy, Ttest)[1])\n",
    "            \n",
    "            f.value += 1\n",
    "        \n",
    "        change.append(percent_diff_arr)\n",
    "    \n",
    "    change = np.array(change)\n",
    "    \n",
    "    x = np.arange(1, change.shape[0] + 1)\n",
    "    y = np.mean(change, axis=1)\n",
    "    yerr = np.std(change, axis=1)\n",
    "    \n",
    "    if errorbar:\n",
    "        plt.errorbar(x, y, yerr=yerr, marker='.', \n",
    "                     lw=1, capsize=5, capthick=1.5, markeredgecolor='k')\n",
    "    else:\n",
    "        plt.plot(x, y, marker='.', lw=1, markeredgecolor='k')\n",
    "        \n",
    "    plt.xlabel('Number of Pixels Changed')\n",
    "    plt.ylabel('Mean \\% Misclassified')\n",
    "    plt.grid(True); plt.tight_layout(); \n",
    "    plt.savefig(name, bbox_inches='tight')\n",
    "    plt.show();"
   ]
  },
  {
   "cell_type": "code",
   "execution_count": null,
   "metadata": {},
   "outputs": [],
   "source": [
    "pixels_to_change = 1\n",
    "Xcopy = change_pixel(Xtest, pixels_to_change=pixels_to_change)\n",
    "\n",
    "diff_index, percent_diff = classified_diff(Xtest, Xcopy, Ttest)\n",
    "\n",
    "print(f'''Total of {len(diff_index)} misclassified samples,\n",
    "      with a {percent_diff:.3f}% difference from test by changing {pixels_to_change} pixel(s)''')\n",
    "\n",
    "imshow(Xtest, Xcopy, Ttest, diff_index, model='CIFAR', name='media/cifar_example_1px_stuck.pdf')\n",
    "print(class_names)\n",
    "\n",
    "change_in_pixels_plot(Xtest, Ttest, end_pixel_val=5, trials_per_pixel=25, name='media/cifar_change_5px_stuck.pdf')"
   ]
  },
  {
   "cell_type": "code",
   "execution_count": null,
   "metadata": {},
   "outputs": [],
   "source": [
    "pixels_to_change = 1\n",
    "Xcopy = change_pixel(Xtest, pixels_to_change=pixels_to_change, pertrub='dead')\n",
    "\n",
    "diff_index, percent_diff = classified_diff(Xtest, Xcopy, Ttest)\n",
    "\n",
    "print(f'''Total of {len(diff_index)} misclassified samples,\n",
    "      with a {percent_diff:.3f}% difference from test by changing {pixels_to_change} pixel(s)''')\n",
    "\n",
    "imshow(Xtest, Xcopy, Ttest, diff_index, model='CIFAR', name='media/cifar_example_1px_dead.pdf')\n",
    "print(class_names)\n",
    "\n",
    "change_in_pixels_plot(Xtest, Ttest, end_pixel_val=5, trials_per_pixel=25, name='media/cifar_change_5px_dead.pdf')"
   ]
  },
  {
   "cell_type": "code",
   "execution_count": null,
   "metadata": {},
   "outputs": [],
   "source": [
    "pixels_to_change = 1\n",
    "Xcopy = change_pixel(Xtest, pixels_to_change=pixels_to_change, pertrub='hot')\n",
    "\n",
    "diff_index, percent_diff = classified_diff(Xtest, Xcopy, Ttest)\n",
    "\n",
    "print(f'''Total of {len(diff_index)} misclassified samples,\n",
    "      with a {percent_diff:.3f}% difference from test by changing {pixels_to_change} pixel(s)''')\n",
    "\n",
    "imshow(Xtest, Xcopy, Ttest, diff_index, model='CIFAR', name='media/cifar_example_1px_hot.pdf')\n",
    "print(class_names)\n",
    "\n",
    "change_in_pixels_plot(Xtest, Ttest, end_pixel_val=5, trials_per_pixel=25, name='media/cifar_change_5px_hot.pdf')"
   ]
  },
  {
   "cell_type": "code",
   "execution_count": null,
   "metadata": {},
   "outputs": [],
   "source": [
    "_ = ml.confusion_matrix(Ttest, nnet.use(Xcopy)[0], np.unique(Ttest))"
   ]
  },
  {
   "cell_type": "code",
   "execution_count": null,
   "metadata": {},
   "outputs": [],
   "source": [
    "_ = ml.confusion_matrix(Ttest, nnet.use(Xtest)[0], np.unique(Ttest))"
   ]
  },
  {
   "cell_type": "code",
   "execution_count": null,
   "metadata": {},
   "outputs": [],
   "source": []
  }
 ],
 "metadata": {
  "accelerator": "GPU",
  "anaconda-cloud": {},
  "colab": {
   "name": "test.ipynb",
   "provenance": []
  },
  "kernelspec": {
   "display_name": "Python 3",
   "language": "python",
   "name": "python3"
  },
  "language_info": {
   "codemirror_mode": {
    "name": "ipython",
    "version": 3
   },
   "file_extension": ".py",
   "mimetype": "text/x-python",
   "name": "python",
   "nbconvert_exporter": "python",
   "pygments_lexer": "ipython3",
   "version": "3.7.4"
  }
 },
 "nbformat": 4,
 "nbformat_minor": 1
}
