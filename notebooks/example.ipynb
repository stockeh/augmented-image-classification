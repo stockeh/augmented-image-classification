{
 "cells": [
  {
   "cell_type": "code",
   "execution_count": 1,
   "metadata": {},
   "outputs": [],
   "source": [
    "import matplotlib.pyplot as plt\n",
    "import pickle, gzip\n",
    "import numpy as np\n",
    "\n",
    "import sys\n",
    "sys.path.append('../src')\n",
    "\n",
    "import neuralnetworkclassifier as nnc\n",
    "import mlutils as ml"
   ]
  },
  {
   "cell_type": "code",
   "execution_count": 2,
   "metadata": {},
   "outputs": [
    {
     "name": "stdout",
     "output_type": "stream",
     "text": [
      "--2019-11-07 21:59:34--  http://deeplearning.net/data/mnist/mnist.pkl.gz\n",
      "Resolving deeplearning.net (deeplearning.net)... 132.204.26.28\n",
      "Connecting to deeplearning.net (deeplearning.net)|132.204.26.28|:80... connected.\n",
      "HTTP request sent, awaiting response... 200 OK\n",
      "Length: 16168813 (15M) [application/x-gzip]\n",
      "Saving to: ‘mnist.pkl.gz’\n",
      "\n",
      "mnist.pkl.gz        100%[===================>]  15.42M   796KB/s    in 20s     \n",
      "\n",
      "2019-11-07 21:59:54 (778 KB/s) - ‘mnist.pkl.gz’ saved [16168813/16168813]\n",
      "\n"
     ]
    }
   ],
   "source": [
    "!wget http://deeplearning.net/data/mnist/mnist.pkl.gz"
   ]
  },
  {
   "cell_type": "code",
   "execution_count": 3,
   "metadata": {},
   "outputs": [
    {
     "name": "stdout",
     "output_type": "stream",
     "text": [
      "(50000, 1, 28, 28) (50000, 1) (10000, 1, 28, 28) (10000, 1)\n"
     ]
    }
   ],
   "source": [
    "with gzip.open('mnist.pkl.gz', 'rb') as f:\n",
    "    train_set, valid_set, test_set = pickle.load(f, encoding='latin1')\n",
    "\n",
    "Xtrain = train_set[0].reshape(-1, 1, 28, 28)\n",
    "Ttrain = train_set[1].reshape((-1, 1))\n",
    "\n",
    "Xtest  = test_set[0].reshape(-1, 1, 28, 28)\n",
    "Ttest  = test_set[1].reshape((-1, 1))\n",
    "\n",
    "print(Xtrain.shape, Ttrain.shape, Xtest.shape, Ttest.shape)"
   ]
  },
  {
   "cell_type": "code",
   "execution_count": 4,
   "metadata": {},
   "outputs": [
    {
     "name": "stdout",
     "output_type": "stream",
     "text": [
      "\n",
      "GPU is not available. Running on CPU.\n",
      "\n",
      "Epoch 10 error 0.55505\n",
      "Epoch 20 error 0.32390\n",
      "Epoch 30 error 0.21339\n",
      "Epoch 40 error 0.15725\n",
      "Epoch 50 error 0.12479\n",
      "Epoch 60 error 0.10390\n",
      "Epoch 70 error 0.08996\n",
      "Epoch 80 error 0.07966\n",
      "Epoch 90 error 0.07155\n",
      "Epoch 100 error 0.06485\n"
     ]
    }
   ],
   "source": [
    "nnet = nnc.NeuralNetwork_Convolutional(n_channels_in_image=Xtrain.shape[1],\n",
    "                                       image_size=Xtrain.shape[2],\n",
    "                                       n_units_in_conv_layers=[10], \n",
    "                                       kernels_size_and_stride=[(7, 3)],\n",
    "                                       n_units_in_fc_hidden_layers=[],\n",
    "                                       classes=np.unique(Ttrain), use_gpu=True)\n",
    "\n",
    "nnet.train(Xtrain, Ttrain, 100, optim='Adam', learning_rate=0.05, verbose=True)"
   ]
  },
  {
   "cell_type": "code",
   "execution_count": 5,
   "metadata": {},
   "outputs": [
    {
     "data": {
      "text/plain": [
       "NeuralNetwork_Convolutional(\n",
       "                            n_channels_in_image=1,\n",
       "                            image_size=28,\n",
       "                            n_units_in_conv_layers=[10],\n",
       "                            kernels_size_and_stride=[(7, 3)],\n",
       "                            n_units_in_fc_hidden_layers=[],\n",
       "                            classes=[0 1 2 3 4 5 6 7 8 9],\n",
       "                            use_gpu=False)\n",
       "Sequential(\n",
       "  (conv_0): Conv2d(1, 10, kernel_size=(7, 7), stride=(3, 3))\n",
       "  (output_0): Tanh()\n",
       "  (flatten): Flatten()\n",
       "  (output_1): Linear(in_features=640, out_features=10, bias=True)\n",
       ")\n",
       "   Network was trained for 100 epochs that took 192.7188 seconds.\n",
       "   Final objective value is 0.065"
      ]
     },
     "execution_count": 5,
     "metadata": {},
     "output_type": "execute_result"
    }
   ],
   "source": [
    "nnet"
   ]
  },
  {
   "cell_type": "code",
   "execution_count": 6,
   "metadata": {},
   "outputs": [
    {
     "name": "stdout",
     "output_type": "stream",
     "text": [
      "Train Percentage: 98.156, Test Percentage: 96.8\n"
     ]
    }
   ],
   "source": [
    "train_percent = ml.percent_correct(Ttrain, nnet.use(Xtrain)[0])\n",
    "\n",
    "classes, Y    = nnet.use(Xtest)\n",
    "test_percent  = ml.percent_correct(Ttest, classes)\n",
    "\n",
    "print(f'Train Percentage: {train_percent}, Test Percentage: {test_percent}')"
   ]
  },
  {
   "cell_type": "code",
   "execution_count": 7,
   "metadata": {},
   "outputs": [
    {
     "name": "stdout",
     "output_type": "stream",
     "text": [
      "       0    1    2    3    4    5    6    7    8    9\n",
      "    ------------------------------------------------------------\n",
      " 0 | 98.8  0.1  0.1  0    0    0.1  0.4  0.2  0.3  0  \n",
      " 1 |  0   99.0  0.2  0.1  0    0    0.3  0.1  0.4  0  \n",
      " 2 |  0.6  0.4 95.7  0.6  0.2  0    0.2  0.5  1.5  0.4\n",
      " 3 |  0.1  0    0.6 97.2  0.1  1.0  0    0.4  0.4  0.2\n",
      " 4 |  0.1  0.1  0.2  0   97.4  0    0.6  0.1  0.2  1.3\n",
      " 5 |  0.2  0.1  0.1  0.9  0   97.0  0.6  0.1  1.0  0  \n",
      " 6 |  0.5  0.3  0.4  0.1  0.4  0.8 97.2  0    0.2  0  \n",
      " 7 |  0    0.6  1.2  0.6  0.6  0.2  0   95.3  0.1  1.5\n",
      " 8 |  0.8  0.1  0.7  0.7  0.4  0.6  0.2  0.7 95.0  0.7\n",
      " 9 |  0.5  0.4  0    0.7  1.4  0.8  0    0.8  0.2 95.2\n"
     ]
    }
   ],
   "source": [
    "_ = ml.confusion_matrix(Ttest, classes, np.unique(Ttest))"
   ]
  }
 ],
 "metadata": {
  "kernelspec": {
   "display_name": "Python 3",
   "language": "python",
   "name": "python3"
  },
  "language_info": {
   "codemirror_mode": {
    "name": "ipython",
    "version": 3
   },
   "file_extension": ".py",
   "mimetype": "text/x-python",
   "name": "python",
   "nbconvert_exporter": "python",
   "pygments_lexer": "ipython3",
   "version": "3.7.3"
  }
 },
 "nbformat": 4,
 "nbformat_minor": 2
}
